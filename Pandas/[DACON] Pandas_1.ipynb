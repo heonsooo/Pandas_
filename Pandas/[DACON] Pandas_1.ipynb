{
 "cells": [
  {
   "cell_type": "markdown",
   "metadata": {},
   "source": [
    "# 데이콘_Pandas 튜토리얼 \n",
    "- (Ch 01 - 07)\n",
    "\n",
    "### Ch01 CSV 파일과 데이터프레임\n",
    "\n",
    "데이터 url : https://dacon.io/competitions/official/235605/data/"
   ]
  },
  {
   "cell_type": "markdown",
   "metadata": {},
   "source": [
    "- 판다스 : 데이터 조작 및 분석을 위한 패키지 \n"
   ]
  },
  {
   "cell_type": "markdown",
   "metadata": {},
   "source": [
    "#### pandas 모듈 불러오기\n",
    "\n"
   ]
  },
  {
   "cell_type": "code",
   "execution_count": 2,
   "metadata": {},
   "outputs": [],
   "source": [
    "import pandas as pd"
   ]
  },
  {
   "cell_type": "markdown",
   "metadata": {},
   "source": [
    "\n",
    "#### csv 파일 불러오기\n",
    "- read_csv() 함수를 이용하여 csv파일을 쉽게 불러올 수 있습니다.\n",
    "- 괄호 안에는 경로를 입력합니다.\n",
    "- 파일의 경로는 절대경로, 상대경로 두 가지 사용 가능합니다.\n",
    "\n",
    "##### 절대경로 : 최상위 위치부터 시작하여 파일의 위치까지 내려가는 경로  \n",
    "    - ex) c:/jupyter/pandas/data/대한민국_주요_도시_인구수.csv  \n",
    "  \n",
    "###### 상대경로 : 작성중인 스크립트의 저장 위치에서 파일 위치까지 내려가는 경로  \n",
    "    - ex) data/대한민국_주요_도시_인구수.csv  \n"
   ]
  },
  {
   "cell_type": "code",
   "execution_count": 10,
   "metadata": {},
   "outputs": [
    {
     "data": {
      "text/html": [
       "<div>\n",
       "<style scoped>\n",
       "    .dataframe tbody tr th:only-of-type {\n",
       "        vertical-align: middle;\n",
       "    }\n",
       "\n",
       "    .dataframe tbody tr th {\n",
       "        vertical-align: top;\n",
       "    }\n",
       "\n",
       "    .dataframe thead th {\n",
       "        text-align: right;\n",
       "    }\n",
       "</style>\n",
       "<table border=\"1\" class=\"dataframe\">\n",
       "  <thead>\n",
       "    <tr style=\"text-align: right;\">\n",
       "      <th></th>\n",
       "      <th>도시</th>\n",
       "      <th>인구수</th>\n",
       "    </tr>\n",
       "  </thead>\n",
       "  <tbody>\n",
       "    <tr>\n",
       "      <th>0</th>\n",
       "      <td>서울</td>\n",
       "      <td>9741381</td>\n",
       "    </tr>\n",
       "    <tr>\n",
       "      <th>1</th>\n",
       "      <td>부산</td>\n",
       "      <td>3416918</td>\n",
       "    </tr>\n",
       "    <tr>\n",
       "      <th>2</th>\n",
       "      <td>인천</td>\n",
       "      <td>2925967</td>\n",
       "    </tr>\n",
       "    <tr>\n",
       "      <th>3</th>\n",
       "      <td>대구</td>\n",
       "      <td>2453041</td>\n",
       "    </tr>\n",
       "    <tr>\n",
       "      <th>4</th>\n",
       "      <td>대전</td>\n",
       "      <td>1525849</td>\n",
       "    </tr>\n",
       "    <tr>\n",
       "      <th>5</th>\n",
       "      <td>광주</td>\n",
       "      <td>1496172</td>\n",
       "    </tr>\n",
       "    <tr>\n",
       "      <th>6</th>\n",
       "      <td>수원</td>\n",
       "      <td>1193894</td>\n",
       "    </tr>\n",
       "    <tr>\n",
       "      <th>7</th>\n",
       "      <td>울산</td>\n",
       "      <td>1147037</td>\n",
       "    </tr>\n",
       "    <tr>\n",
       "      <th>8</th>\n",
       "      <td>고양</td>\n",
       "      <td>1068641</td>\n",
       "    </tr>\n",
       "    <tr>\n",
       "      <th>9</th>\n",
       "      <td>용인</td>\n",
       "      <td>1061440</td>\n",
       "    </tr>\n",
       "  </tbody>\n",
       "</table>\n",
       "</div>"
      ],
      "text/plain": [
       "   도시      인구수\n",
       "0  서울  9741381\n",
       "1  부산  3416918\n",
       "2  인천  2925967\n",
       "3  대구  2453041\n",
       "4  대전  1525849\n",
       "5  광주  1496172\n",
       "6  수원  1193894\n",
       "7  울산  1147037\n",
       "8  고양  1068641\n",
       "9  용인  1061440"
      ]
     },
     "execution_count": 10,
     "metadata": {},
     "output_type": "execute_result"
    }
   ],
   "source": [
    "# 절대 경로 C:/Users/82103/2_데이콘/data/대한민국_주요_도시_인구수.csv  \n",
    "path_1 = 'C:/Users/82103/2_데이콘/data/대한민국_주요_도시_인구수.csv  '\n",
    "# 상대 경로 data/ 대한민국_주요_도시_인구수.csv  \n",
    "path_2 = 'data/대한민국_주요_도시_인구수.csv  '\n",
    "pd.read_csv(path_2)\n",
    "\n",
    "data = pd.read_csv(path_2)\n",
    "data"
   ]
  },
  {
   "cell_type": "markdown",
   "metadata": {},
   "source": [
    "### shape, head, tail 함수 사용\n"
   ]
  },
  {
   "cell_type": "markdown",
   "metadata": {},
   "source": [
    "##### shae 함수\n",
    "-  csv 데이터의 사이즈를 로우, 컬럼 튜플 형태로 표현 \n",
    "-  data = (10x2) 사이즈 입니다. "
   ]
  },
  {
   "cell_type": "code",
   "execution_count": 12,
   "metadata": {},
   "outputs": [
    {
     "data": {
      "text/plain": [
       "(10, 2)"
      ]
     },
     "execution_count": 12,
     "metadata": {},
     "output_type": "execute_result"
    }
   ],
   "source": [
    "\n",
    "data.shape"
   ]
  },
  {
   "cell_type": "markdown",
   "metadata": {},
   "source": [
    "##### head(),  tail() \n",
    "- data.head(n) : 데이터의 상단 n개의 로우(행) 데이터 출력\n",
    "- data.tail(n) : 데이터의 하단 n개의 로우(행) 데이터 출력  \n",
    "- Default = 5입니다."
   ]
  },
  {
   "cell_type": "code",
   "execution_count": 40,
   "metadata": {},
   "outputs": [
    {
     "name": "stdout",
     "output_type": "stream",
     "text": [
      "   도시      인구수\n",
      "0  서울  9741381\n",
      "1  부산  3416918\n",
      "2  인천  2925967 \n",
      " ... \n",
      " ... \n",
      " ... \n",
      "    도시      인구수\n",
      "7  울산  1147037\n",
      "8  고양  1068641\n",
      "9  용인  1061440\n"
     ]
    }
   ],
   "source": [
    "# print(data.head() ,'\\n ... '*3+'\\n' ,data.tail() ,'\\n'*5)\n",
    "\n",
    "print(data.head(3) ,'\\n ... '*3+'\\n' ,data.tail(3))"
   ]
  },
  {
   "cell_type": "markdown",
   "metadata": {},
   "source": [
    "### 정보확인 (info)\n",
    "- 컬럼의 개수\n",
    "- 로우의 개수\n",
    "- 각 컬럼의 이름 \n",
    "- 자료형 등의 정보를 알 수 있습니다."
   ]
  },
  {
   "cell_type": "code",
   "execution_count": 41,
   "metadata": {},
   "outputs": [
    {
     "name": "stdout",
     "output_type": "stream",
     "text": [
      "<class 'pandas.core.frame.DataFrame'>\n",
      "RangeIndex: 10 entries, 0 to 9\n",
      "Data columns (total 2 columns):\n",
      " #   Column  Non-Null Count  Dtype \n",
      "---  ------  --------------  ----- \n",
      " 0   도시      10 non-null     object\n",
      " 1   인구수     10 non-null     int64 \n",
      "dtypes: int64(1), object(1)\n",
      "memory usage: 288.0+ bytes\n"
     ]
    }
   ],
   "source": [
    "data.info()"
   ]
  },
  {
   "cell_type": "markdown",
   "metadata": {},
   "source": [
    "#### 특정 컬럼을 선택하는 2가지 방법\n",
    "- DataFrame['특정 컬럼']\n",
    "- DataFrame.컬럼 (특정컬럼에 띄어쓰기가 있을 경우 사용 불가)"
   ]
  },
  {
   "cell_type": "code",
   "execution_count": 50,
   "metadata": {},
   "outputs": [
    {
     "name": "stdout",
     "output_type": "stream",
     "text": [
      "0    서울\n",
      "1    부산\n",
      "2    인천\n",
      "3    대구\n",
      "4    대전\n",
      "5    광주\n",
      "6    수원\n",
      "7    울산\n",
      "8    고양\n",
      "9    용인\n",
      "Name: 도시, dtype: object \n",
      " 0    서울\n",
      "1    부산\n",
      "2    인천\n",
      "3    대구\n",
      "4    대전\n",
      "5    광주\n",
      "6    수원\n",
      "7    울산\n",
      "8    고양\n",
      "9    용인\n",
      "Name: 도시, dtype: object\n",
      "0    9741381\n",
      "1    3416918\n",
      "2    2925967\n",
      "3    2453041\n",
      "4    1525849\n",
      "5    1496172\n",
      "6    1193894\n",
      "7    1147037\n",
      "8    1068641\n",
      "9    1061440\n",
      "Name: 인구수, dtype: int64 \n",
      " 0    9741381\n",
      "1    3416918\n",
      "2    2925967\n",
      "3    2453041\n",
      "4    1525849\n",
      "5    1496172\n",
      "6    1193894\n",
      "7    1147037\n",
      "8    1068641\n",
      "9    1061440\n",
      "Name: 인구수, dtype: int64\n"
     ]
    }
   ],
   "source": [
    "print(data['도시'], '\\n',data.도시)\n",
    "print(data['인구수'],'\\n', data.인구수 )"
   ]
  },
  {
   "cell_type": "code",
   "execution_count": 55,
   "metadata": {},
   "outputs": [],
   "source": [
    "from IPython.display import Image\n",
    "# Image('data/123.png')"
   ]
  }
 ],
 "metadata": {
  "kernelspec": {
   "display_name": "Python 3",
   "language": "python",
   "name": "python3"
  },
  "language_info": {
   "codemirror_mode": {
    "name": "ipython",
    "version": 3
   },
   "file_extension": ".py",
   "mimetype": "text/x-python",
   "name": "python",
   "nbconvert_exporter": "python",
   "pygments_lexer": "ipython3",
   "version": "3.7.6"
  }
 },
 "nbformat": 4,
 "nbformat_minor": 4
}
