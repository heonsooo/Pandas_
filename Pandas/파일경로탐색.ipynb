{
 "cells": [
  {
   "cell_type": "code",
   "execution_count": 1,
   "metadata": {},
   "outputs": [
    {
     "name": "stderr",
     "output_type": "stream",
     "text": [
      "UsageError: Line magic function `%mv` not found.\n"
     ]
    }
   ],
   "source": [
    "# %mv ~/Dow 여기에 tap키 누르면, 다운로드 경로 자동완성\n",
    "%mv C:/Users/82103/Downloads/\n",
    "\n",
    "# %mv C:/Users/82103/Downloads/도로교통     tap 누르면 자동완성\n",
    "%mv \"C:/Users/82103/Downloads/도로교통공단_시도 시군구별 교통사고 통계_20201214.csv\" \n",
    "\n",
    "# %mv \"C:/Users/82103/Downloads/도로교통공단_시도 시군구별 교통사고 통계_20201214.csv\"  여기에 한칸 띄고 . 누르면 쥬피터 파일 위치에 파일 복사\n",
    "%move \"C:/Users/82103/Downloads/도로교통공단_시도 시군구별 교통사고 통계_20201214.csv\".\n"
   ]
  },
  {
   "cell_type": "code",
   "execution_count": 5,
   "metadata": {},
   "outputs": [
    {
     "name": "stdout",
     "output_type": "stream",
     "text": [
      " C 드라이브의 볼륨에는 이름이 없습니다.\n",
      " 볼륨 일련 번호: 7A6A-2C22\n",
      "\n",
      " C:\\Users\\82103\\Desktop\\jupyter\\[부스트코스] 디렉터리\n",
      "\n",
      "\n",
      " C:\\Users\\82103\\Desktop\\jupyter\\[부스트코스] 디렉터리\n",
      "\n",
      "\n",
      " C:\\Users\\82103\\Desktop\\jupyter\\[부스트코스] 디렉터리\n",
      "\n",
      "\n",
      " C:\\Users\\82103\\Desktop\\jupyter\\[부스트코스] 디렉터리\n",
      "\n",
      "\n",
      " C:\\Users\\82103\\Desktop\\jupyter\\[부스트코스] 디렉터리\n",
      "\n",
      "\n",
      " C:\\Users\\82103\\Desktop\\jupyter\\[부스트코스] 디렉터리\n",
      "\n",
      "\n",
      " C:\\Users\\82103\\Desktop\\jupyter\\[부스트코스] 디렉터리\n",
      "\n"
     ]
    },
    {
     "name": "stderr",
     "output_type": "stream",
     "text": [
      "파일을 찾을 수 없습니다.\n"
     ]
    }
   ],
   "source": [
    "%ls # 같은 폴더 내에 있는 파일들 출력 "
   ]
  },
  {
   "cell_type": "code",
   "execution_count": 2,
   "metadata": {},
   "outputs": [],
   "source": [
    "import pandas as pd"
   ]
  },
  {
   "cell_type": "code",
   "execution_count": 3,
   "metadata": {
    "scrolled": true
   },
   "outputs": [
    {
     "data": {
      "text/html": [
       "<div>\n",
       "<style scoped>\n",
       "    .dataframe tbody tr th:only-of-type {\n",
       "        vertical-align: middle;\n",
       "    }\n",
       "\n",
       "    .dataframe tbody tr th {\n",
       "        vertical-align: top;\n",
       "    }\n",
       "\n",
       "    .dataframe thead th {\n",
       "        text-align: right;\n",
       "    }\n",
       "</style>\n",
       "<table border=\"1\" class=\"dataframe\">\n",
       "  <thead>\n",
       "    <tr style=\"text-align: right;\">\n",
       "      <th></th>\n",
       "      <th>시도</th>\n",
       "      <th>시군구</th>\n",
       "      <th>사고건수</th>\n",
       "      <th>사망자수</th>\n",
       "      <th>중상자수</th>\n",
       "      <th>경상자수</th>\n",
       "      <th>부상신고자수</th>\n",
       "    </tr>\n",
       "  </thead>\n",
       "  <tbody>\n",
       "    <tr>\n",
       "      <th>0</th>\n",
       "      <td>서울</td>\n",
       "      <td>종로구</td>\n",
       "      <td>1133</td>\n",
       "      <td>6</td>\n",
       "      <td>312</td>\n",
       "      <td>1075</td>\n",
       "      <td>172</td>\n",
       "    </tr>\n",
       "    <tr>\n",
       "      <th>1</th>\n",
       "      <td>서울</td>\n",
       "      <td>중구</td>\n",
       "      <td>1184</td>\n",
       "      <td>5</td>\n",
       "      <td>365</td>\n",
       "      <td>1083</td>\n",
       "      <td>167</td>\n",
       "    </tr>\n",
       "    <tr>\n",
       "      <th>2</th>\n",
       "      <td>서울</td>\n",
       "      <td>용산구</td>\n",
       "      <td>1187</td>\n",
       "      <td>10</td>\n",
       "      <td>316</td>\n",
       "      <td>1228</td>\n",
       "      <td>70</td>\n",
       "    </tr>\n",
       "    <tr>\n",
       "      <th>3</th>\n",
       "      <td>서울</td>\n",
       "      <td>성동구</td>\n",
       "      <td>1091</td>\n",
       "      <td>13</td>\n",
       "      <td>294</td>\n",
       "      <td>1063</td>\n",
       "      <td>82</td>\n",
       "    </tr>\n",
       "    <tr>\n",
       "      <th>4</th>\n",
       "      <td>서울</td>\n",
       "      <td>동대문구</td>\n",
       "      <td>1565</td>\n",
       "      <td>15</td>\n",
       "      <td>507</td>\n",
       "      <td>1340</td>\n",
       "      <td>141</td>\n",
       "    </tr>\n",
       "    <tr>\n",
       "      <th>...</th>\n",
       "      <td>...</td>\n",
       "      <td>...</td>\n",
       "      <td>...</td>\n",
       "      <td>...</td>\n",
       "      <td>...</td>\n",
       "      <td>...</td>\n",
       "      <td>...</td>\n",
       "    </tr>\n",
       "    <tr>\n",
       "      <th>224</th>\n",
       "      <td>울산</td>\n",
       "      <td>남구</td>\n",
       "      <td>1383</td>\n",
       "      <td>9</td>\n",
       "      <td>491</td>\n",
       "      <td>1299</td>\n",
       "      <td>135</td>\n",
       "    </tr>\n",
       "    <tr>\n",
       "      <th>225</th>\n",
       "      <td>울산</td>\n",
       "      <td>동구</td>\n",
       "      <td>628</td>\n",
       "      <td>1</td>\n",
       "      <td>211</td>\n",
       "      <td>588</td>\n",
       "      <td>18</td>\n",
       "    </tr>\n",
       "    <tr>\n",
       "      <th>226</th>\n",
       "      <td>울산</td>\n",
       "      <td>북구</td>\n",
       "      <td>693</td>\n",
       "      <td>13</td>\n",
       "      <td>282</td>\n",
       "      <td>731</td>\n",
       "      <td>97</td>\n",
       "    </tr>\n",
       "    <tr>\n",
       "      <th>227</th>\n",
       "      <td>울산</td>\n",
       "      <td>울주군</td>\n",
       "      <td>906</td>\n",
       "      <td>27</td>\n",
       "      <td>350</td>\n",
       "      <td>899</td>\n",
       "      <td>124</td>\n",
       "    </tr>\n",
       "    <tr>\n",
       "      <th>228</th>\n",
       "      <td>세종</td>\n",
       "      <td>세종시</td>\n",
       "      <td>922</td>\n",
       "      <td>15</td>\n",
       "      <td>382</td>\n",
       "      <td>893</td>\n",
       "      <td>26</td>\n",
       "    </tr>\n",
       "  </tbody>\n",
       "</table>\n",
       "<p>229 rows × 7 columns</p>\n",
       "</div>"
      ],
      "text/plain": [
       "     시도   시군구  사고건수  사망자수  중상자수  경상자수  부상신고자수\n",
       "0    서울   종로구  1133     6   312  1075     172\n",
       "1    서울    중구  1184     5   365  1083     167\n",
       "2    서울   용산구  1187    10   316  1228      70\n",
       "3    서울   성동구  1091    13   294  1063      82\n",
       "4    서울  동대문구  1565    15   507  1340     141\n",
       "..   ..   ...   ...   ...   ...   ...     ...\n",
       "224  울산    남구  1383     9   491  1299     135\n",
       "225  울산    동구   628     1   211   588      18\n",
       "226  울산    북구   693    13   282   731      97\n",
       "227  울산   울주군   906    27   350   899     124\n",
       "228  세종   세종시   922    15   382   893      26\n",
       "\n",
       "[229 rows x 7 columns]"
      ]
     },
     "execution_count": 3,
     "metadata": {},
     "output_type": "execute_result"
    }
   ],
   "source": [
    "# UnicodeDecodeError : shift + tab키를 눌러 도움말 보기, \n",
    "# 한글로 작성된 것은 cp949로 인코딩 해야함\n",
    "# pd.read_csv('C:/Users/82103/Downloads/도로교통공단_시도 시군구별 교통사고 통계_20201214.csv', encoding = 'cp949')\n",
    "pd.read_csv('./data/도로교통공단_시도 시군구별 교통사고 통계_20201214.csv', encoding = 'cp949')"
   ]
  },
  {
   "cell_type": "code",
   "execution_count": 4,
   "metadata": {},
   "outputs": [
    {
     "data": {
      "text/plain": [
       "'C:\\\\Users\\\\82103\\\\Desktop\\\\jupyter\\\\[부스트코스]'"
      ]
     },
     "execution_count": 4,
     "metadata": {},
     "output_type": "execute_result"
    }
   ],
   "source": [
    "# 쥬피터 노트북이 있는 폴더의 경로를 출력\n",
    "%pwd"
   ]
  }
 ],
 "metadata": {
  "kernelspec": {
   "display_name": "Python 3",
   "language": "python",
   "name": "python3"
  },
  "language_info": {
   "codemirror_mode": {
    "name": "ipython",
    "version": 3
   },
   "file_extension": ".py",
   "mimetype": "text/x-python",
   "name": "python",
   "nbconvert_exporter": "python",
   "pygments_lexer": "ipython3",
   "version": "3.7.6"
  }
 },
 "nbformat": 4,
 "nbformat_minor": 4
}
