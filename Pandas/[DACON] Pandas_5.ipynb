{
 "cells": [
  {
   "cell_type": "markdown",
   "metadata": {},
   "source": [
    "# 데이콘_Pandas 튜토리얼 \n",
    "- (Ch 01 - 07)\n",
    "\n",
    "### Ch05 통계함수\n",
    "- 목표 : 다양한 통계함수를 DataFrame에 적용"
   ]
  },
  {
   "cell_type": "code",
   "execution_count": 1,
   "metadata": {},
   "outputs": [
    {
     "data": {
      "text/html": [
       "<div>\n",
       "<style scoped>\n",
       "    .dataframe tbody tr th:only-of-type {\n",
       "        vertical-align: middle;\n",
       "    }\n",
       "\n",
       "    .dataframe tbody tr th {\n",
       "        vertical-align: top;\n",
       "    }\n",
       "\n",
       "    .dataframe thead th {\n",
       "        text-align: right;\n",
       "    }\n",
       "</style>\n",
       "<table border=\"1\" class=\"dataframe\">\n",
       "  <thead>\n",
       "    <tr style=\"text-align: right;\">\n",
       "      <th></th>\n",
       "      <th>도시</th>\n",
       "      <th>인구수</th>\n",
       "      <th>남자</th>\n",
       "      <th>여자</th>\n",
       "    </tr>\n",
       "  </thead>\n",
       "  <tbody>\n",
       "    <tr>\n",
       "      <th>0</th>\n",
       "      <td>서울</td>\n",
       "      <td>9741381</td>\n",
       "      <td>4757642</td>\n",
       "      <td>4984229</td>\n",
       "    </tr>\n",
       "    <tr>\n",
       "      <th>1</th>\n",
       "      <td>부산</td>\n",
       "      <td>3416918</td>\n",
       "      <td>1680933</td>\n",
       "      <td>1735985</td>\n",
       "    </tr>\n",
       "    <tr>\n",
       "      <th>2</th>\n",
       "      <td>인천</td>\n",
       "      <td>2925967</td>\n",
       "      <td>1472081</td>\n",
       "      <td>1453886</td>\n",
       "    </tr>\n",
       "    <tr>\n",
       "      <th>3</th>\n",
       "      <td>대구</td>\n",
       "      <td>2453041</td>\n",
       "      <td>1218326</td>\n",
       "      <td>1234715</td>\n",
       "    </tr>\n",
       "    <tr>\n",
       "      <th>4</th>\n",
       "      <td>대전</td>\n",
       "      <td>1525849</td>\n",
       "      <td>765718</td>\n",
       "      <td>760131</td>\n",
       "    </tr>\n",
       "    <tr>\n",
       "      <th>5</th>\n",
       "      <td>광주</td>\n",
       "      <td>1496172</td>\n",
       "      <td>745122</td>\n",
       "      <td>751050</td>\n",
       "    </tr>\n",
       "    <tr>\n",
       "      <th>6</th>\n",
       "      <td>수원</td>\n",
       "      <td>1193894</td>\n",
       "      <td>601097</td>\n",
       "      <td>592797</td>\n",
       "    </tr>\n",
       "    <tr>\n",
       "      <th>7</th>\n",
       "      <td>울산</td>\n",
       "      <td>1147037</td>\n",
       "      <td>589233</td>\n",
       "      <td>557804</td>\n",
       "    </tr>\n",
       "    <tr>\n",
       "      <th>8</th>\n",
       "      <td>고양</td>\n",
       "      <td>1068641</td>\n",
       "      <td>523803</td>\n",
       "      <td>544838</td>\n",
       "    </tr>\n",
       "    <tr>\n",
       "      <th>9</th>\n",
       "      <td>용인</td>\n",
       "      <td>1061440</td>\n",
       "      <td>526824</td>\n",
       "      <td>534617</td>\n",
       "    </tr>\n",
       "    <tr>\n",
       "      <th>10</th>\n",
       "      <td>총합</td>\n",
       "      <td>26030340</td>\n",
       "      <td>12880779</td>\n",
       "      <td>13150052</td>\n",
       "    </tr>\n",
       "  </tbody>\n",
       "</table>\n",
       "</div>"
      ],
      "text/plain": [
       "    도시       인구수        남자        여자\n",
       "0   서울   9741381   4757642   4984229\n",
       "1   부산   3416918   1680933   1735985\n",
       "2   인천   2925967   1472081   1453886\n",
       "3   대구   2453041   1218326   1234715\n",
       "4   대전   1525849    765718    760131\n",
       "5   광주   1496172    745122    751050\n",
       "6   수원   1193894    601097    592797\n",
       "7   울산   1147037    589233    557804\n",
       "8   고양   1068641    523803    544838\n",
       "9   용인   1061440    526824    534617\n",
       "10  총합  26030340  12880779  13150052"
      ]
     },
     "execution_count": 1,
     "metadata": {},
     "output_type": "execute_result"
    }
   ],
   "source": [
    "import pandas as pd\n",
    "\n",
    "data = pd.read_csv('data/data03.csv')\n",
    "data"
   ]
  },
  {
   "cell_type": "markdown",
   "metadata": {},
   "source": [
    "- DataFrame['컬럼'].unique() : 컬럼의 고유값 리스트 반환\n",
    "   \n",
    "   \n",
    "- DataFrame['컬럼'].value_counts() : 컬럼의 고유값 카운트 반환"
   ]
  },
  {
   "cell_type": "code",
   "execution_count": 2,
   "metadata": {},
   "outputs": [
    {
     "data": {
      "text/plain": [
       "array(['서울', '부산', '인천', '대구', '대전', '광주', '수원', '울산', '고양', '용인', '총합'],\n",
       "      dtype=object)"
      ]
     },
     "execution_count": 2,
     "metadata": {},
     "output_type": "execute_result"
    }
   ],
   "source": [
    "# 특정 column의 고유값 리스트 반환\n",
    "data['도시'].unique()"
   ]
  },
  {
   "cell_type": "code",
   "execution_count": 5,
   "metadata": {},
   "outputs": [
    {
     "data": {
      "text/plain": [
       "수원    1\n",
       "광주    1\n",
       "고양    1\n",
       "용인    1\n",
       "울산    1\n",
       "대전    1\n",
       "인천    1\n",
       "총합    1\n",
       "부산    1\n",
       "서울    1\n",
       "대구    1\n",
       "Name: 도시, dtype: int64"
      ]
     },
     "execution_count": 5,
     "metadata": {},
     "output_type": "execute_result"
    }
   ],
   "source": [
    "# 특정 column의 고유값 카운트 반환\n",
    "data['도시'].value_counts()"
   ]
  },
  {
   "cell_type": "markdown",
   "metadata": {},
   "source": [
    "#### 수치를 이용한 함수 "
   ]
  },
  {
   "cell_type": "markdown",
   "metadata": {},
   "source": [
    "pd.DataFrame.sum() : 각 컬럼의 합계를 반환\n",
    "\n",
    "pd.DataFrame.max() : 각 컬럼의 최대값을 반환\n",
    "\n",
    "pd.DataFrame.idxmax() : 특정 컬럼의 최대값의 인덱스 반환\n",
    "\n",
    "pd.DataFrame.min() : 각 컬럼의 최소값을 반환\n",
    "\n",
    "pd.DataFrame.idxmin() : 특정 컬럼의 최소값의 인덱스 반환\n",
    "\n",
    "pd.DataFrame.mean() : 각 컬럼의 평균을 반환\n",
    "\n",
    "pd.DataFrame.median() : 각 컬럼의 중앙값을 반환\n",
    "\n",
    "pd.DataFrame.var() : 각 컬럼의 분산을 반환\n",
    "\n",
    "pd.DataFrame.std() : 각 컬럼의 표준편차를 반환"
   ]
  },
  {
   "cell_type": "code",
   "execution_count": 6,
   "metadata": {},
   "outputs": [
    {
     "data": {
      "text/html": [
       "<div>\n",
       "<style scoped>\n",
       "    .dataframe tbody tr th:only-of-type {\n",
       "        vertical-align: middle;\n",
       "    }\n",
       "\n",
       "    .dataframe tbody tr th {\n",
       "        vertical-align: top;\n",
       "    }\n",
       "\n",
       "    .dataframe thead th {\n",
       "        text-align: right;\n",
       "    }\n",
       "</style>\n",
       "<table border=\"1\" class=\"dataframe\">\n",
       "  <thead>\n",
       "    <tr style=\"text-align: right;\">\n",
       "      <th></th>\n",
       "      <th>인구수</th>\n",
       "      <th>남자</th>\n",
       "      <th>여자</th>\n",
       "    </tr>\n",
       "  </thead>\n",
       "  <tbody>\n",
       "    <tr>\n",
       "      <th>0</th>\n",
       "      <td>9741381</td>\n",
       "      <td>4757642</td>\n",
       "      <td>4984229</td>\n",
       "    </tr>\n",
       "    <tr>\n",
       "      <th>1</th>\n",
       "      <td>3416918</td>\n",
       "      <td>1680933</td>\n",
       "      <td>1735985</td>\n",
       "    </tr>\n",
       "    <tr>\n",
       "      <th>2</th>\n",
       "      <td>2925967</td>\n",
       "      <td>1472081</td>\n",
       "      <td>1453886</td>\n",
       "    </tr>\n",
       "    <tr>\n",
       "      <th>3</th>\n",
       "      <td>2453041</td>\n",
       "      <td>1218326</td>\n",
       "      <td>1234715</td>\n",
       "    </tr>\n",
       "    <tr>\n",
       "      <th>4</th>\n",
       "      <td>1525849</td>\n",
       "      <td>765718</td>\n",
       "      <td>760131</td>\n",
       "    </tr>\n",
       "    <tr>\n",
       "      <th>5</th>\n",
       "      <td>1496172</td>\n",
       "      <td>745122</td>\n",
       "      <td>751050</td>\n",
       "    </tr>\n",
       "    <tr>\n",
       "      <th>6</th>\n",
       "      <td>1193894</td>\n",
       "      <td>601097</td>\n",
       "      <td>592797</td>\n",
       "    </tr>\n",
       "    <tr>\n",
       "      <th>7</th>\n",
       "      <td>1147037</td>\n",
       "      <td>589233</td>\n",
       "      <td>557804</td>\n",
       "    </tr>\n",
       "    <tr>\n",
       "      <th>8</th>\n",
       "      <td>1068641</td>\n",
       "      <td>523803</td>\n",
       "      <td>544838</td>\n",
       "    </tr>\n",
       "    <tr>\n",
       "      <th>9</th>\n",
       "      <td>1061440</td>\n",
       "      <td>526824</td>\n",
       "      <td>534617</td>\n",
       "    </tr>\n",
       "  </tbody>\n",
       "</table>\n",
       "</div>"
      ],
      "text/plain": [
       "       인구수       남자       여자\n",
       "0  9741381  4757642  4984229\n",
       "1  3416918  1680933  1735985\n",
       "2  2925967  1472081  1453886\n",
       "3  2453041  1218326  1234715\n",
       "4  1525849   765718   760131\n",
       "5  1496172   745122   751050\n",
       "6  1193894   601097   592797\n",
       "7  1147037   589233   557804\n",
       "8  1068641   523803   544838\n",
       "9  1061440   526824   534617"
      ]
     },
     "execution_count": 6,
     "metadata": {},
     "output_type": "execute_result"
    }
   ],
   "source": [
    "# 수치 계산에 사용할 데이터만 선택하여 새로운 dataframe에 저장\n",
    "df = data.iloc[:10, 1:]\n",
    "df"
   ]
  },
  {
   "cell_type": "code",
   "execution_count": 7,
   "metadata": {},
   "outputs": [
    {
     "data": {
      "text/plain": [
       "인구수    26030340\n",
       "남자     12880779\n",
       "여자     13150052\n",
       "dtype: int64"
      ]
     },
     "execution_count": 7,
     "metadata": {},
     "output_type": "execute_result"
    }
   ],
   "source": [
    "# 각 컬럼의 합\n",
    "df.sum()"
   ]
  },
  {
   "cell_type": "code",
   "execution_count": 8,
   "metadata": {},
   "outputs": [
    {
     "data": {
      "text/plain": [
       "인구수    9741381\n",
       "남자     4757642\n",
       "여자     4984229\n",
       "dtype: int64"
      ]
     },
     "execution_count": 8,
     "metadata": {},
     "output_type": "execute_result"
    }
   ],
   "source": [
    "# 각 컬럼중 최댓값 \n",
    "df.max()"
   ]
  },
  {
   "cell_type": "code",
   "execution_count": 11,
   "metadata": {},
   "outputs": [
    {
     "name": "stdout",
     "output_type": "stream",
     "text": [
      "0\n",
      "0\n",
      "0\n"
     ]
    }
   ],
   "source": [
    "#각 컬럼 최댓값의 index 반환 \n",
    "print ( df['인구수'].idxmax()) \n",
    "print ( df['남자'].idxmax()) \n",
    "print ( df['여자'].idxmax()) \n"
   ]
  },
  {
   "cell_type": "code",
   "execution_count": 12,
   "metadata": {},
   "outputs": [
    {
     "data": {
      "text/plain": [
       "'서울'"
      ]
     },
     "execution_count": 12,
     "metadata": {},
     "output_type": "execute_result"
    }
   ],
   "source": [
    "# 컬럼 최댓값의 index를 이용하여 인구가 가장 많은 도시 찾기 \n",
    "#data.loc[ 가장 큰 값의 index ]['도시']\n",
    "data.loc[df['인구수'].idxmax()]['도시']"
   ]
  },
  {
   "cell_type": "code",
   "execution_count": 13,
   "metadata": {},
   "outputs": [
    {
     "data": {
      "text/plain": [
       "인구수    1061440\n",
       "남자      523803\n",
       "여자      534617\n",
       "dtype: int64"
      ]
     },
     "execution_count": 13,
     "metadata": {},
     "output_type": "execute_result"
    }
   ],
   "source": [
    "# 각 컬럼의 최소값을 반환\n",
    "df.min()"
   ]
  },
  {
   "cell_type": "code",
   "execution_count": 14,
   "metadata": {},
   "outputs": [
    {
     "data": {
      "text/plain": [
       "9"
      ]
     },
     "execution_count": 14,
     "metadata": {},
     "output_type": "execute_result"
    }
   ],
   "source": [
    "# 특정 컬럼의 최소값의 인덱스 반환\n",
    "df['인구수'].idxmin()"
   ]
  },
  {
   "cell_type": "code",
   "execution_count": 15,
   "metadata": {},
   "outputs": [
    {
     "data": {
      "text/plain": [
       "'용인'"
      ]
     },
     "execution_count": 15,
     "metadata": {},
     "output_type": "execute_result"
    }
   ],
   "source": [
    "# 컬럼 최솟값의 index를 이용하여 인구가 가장 적은 도시 찾기 \n",
    "data.loc[df['인구수'].idxmin()]['도시']"
   ]
  },
  {
   "cell_type": "code",
   "execution_count": 17,
   "metadata": {},
   "outputs": [
    {
     "data": {
      "text/plain": [
       "인구수    2603034.0\n",
       "남자     1288077.9\n",
       "여자     1315005.2\n",
       "dtype: float64"
      ]
     },
     "execution_count": 17,
     "metadata": {},
     "output_type": "execute_result"
    }
   ],
   "source": [
    "# 각 컬럼의 중앙값을 반환\n",
    "df.mean()"
   ]
  },
  {
   "cell_type": "code",
   "execution_count": 18,
   "metadata": {},
   "outputs": [
    {
     "data": {
      "text/plain": [
       "인구수    6.996348e+12\n",
       "남자     1.658060e+12\n",
       "여자     1.843244e+12\n",
       "dtype: float64"
      ]
     },
     "execution_count": 18,
     "metadata": {},
     "output_type": "execute_result"
    }
   ],
   "source": [
    "# 각 컬럼의 분산을 반환\n",
    "df.var()"
   ]
  },
  {
   "cell_type": "code",
   "execution_count": 16,
   "metadata": {},
   "outputs": [
    {
     "data": {
      "text/plain": [
       "인구수    2.645061e+06\n",
       "남자     1.287657e+06\n",
       "여자     1.357661e+06\n",
       "dtype: float64"
      ]
     },
     "execution_count": 16,
     "metadata": {},
     "output_type": "execute_result"
    }
   ],
   "source": [
    "# 각 컬럼의 표준편차를 반환\n",
    "df.std()"
   ]
  },
  {
   "cell_type": "markdown",
   "metadata": {},
   "source": [
    "# ch 5 과제"
   ]
  },
  {
   "cell_type": "code",
   "execution_count": 27,
   "metadata": {},
   "outputs": [
    {
     "data": {
      "text/plain": [
       "10"
      ]
     },
     "execution_count": 27,
     "metadata": {},
     "output_type": "execute_result"
    }
   ],
   "source": [
    "len(df)"
   ]
  },
  {
   "cell_type": "code",
   "execution_count": 33,
   "metadata": {},
   "outputs": [
    {
     "data": {
      "text/plain": [
       "26030340"
      ]
     },
     "execution_count": 33,
     "metadata": {},
     "output_type": "execute_result"
    }
   ],
   "source": [
    "\n",
    "df_sum"
   ]
  },
  {
   "cell_type": "code",
   "execution_count": 56,
   "metadata": {},
   "outputs": [
    {
     "data": {
      "text/html": [
       "<div>\n",
       "<style scoped>\n",
       "    .dataframe tbody tr th:only-of-type {\n",
       "        vertical-align: middle;\n",
       "    }\n",
       "\n",
       "    .dataframe tbody tr th {\n",
       "        vertical-align: top;\n",
       "    }\n",
       "\n",
       "    .dataframe thead th {\n",
       "        text-align: right;\n",
       "    }\n",
       "</style>\n",
       "<table border=\"1\" class=\"dataframe\">\n",
       "  <thead>\n",
       "    <tr style=\"text-align: right;\">\n",
       "      <th></th>\n",
       "      <th>문제</th>\n",
       "      <th>인구수</th>\n",
       "      <th>남자</th>\n",
       "      <th>여자</th>\n",
       "    </tr>\n",
       "  </thead>\n",
       "  <tbody>\n",
       "    <tr>\n",
       "      <th>0</th>\n",
       "      <td>총합</td>\n",
       "      <td>26030340</td>\n",
       "      <td>12880779</td>\n",
       "      <td>13150052</td>\n",
       "    </tr>\n",
       "    <tr>\n",
       "      <th>1</th>\n",
       "      <td>최대값</td>\n",
       "      <td>9741381</td>\n",
       "      <td>4757642</td>\n",
       "      <td>4984229</td>\n",
       "    </tr>\n",
       "    <tr>\n",
       "      <th>2</th>\n",
       "      <td>최소값</td>\n",
       "      <td>1061440</td>\n",
       "      <td>523803</td>\n",
       "      <td>534617</td>\n",
       "    </tr>\n",
       "    <tr>\n",
       "      <th>3</th>\n",
       "      <td>평균값</td>\n",
       "      <td>2603034</td>\n",
       "      <td>1288077</td>\n",
       "      <td>1315005</td>\n",
       "    </tr>\n",
       "    <tr>\n",
       "      <th>4</th>\n",
       "      <td>중앙값</td>\n",
       "      <td>2603034</td>\n",
       "      <td>1288077</td>\n",
       "      <td>1315005</td>\n",
       "    </tr>\n",
       "    <tr>\n",
       "      <th>5</th>\n",
       "      <td>분산</td>\n",
       "      <td>6996348492729</td>\n",
       "      <td>1658060465632</td>\n",
       "      <td>1843243791648</td>\n",
       "    </tr>\n",
       "    <tr>\n",
       "      <th>6</th>\n",
       "      <td>표준편차</td>\n",
       "      <td>2645061</td>\n",
       "      <td>1287656</td>\n",
       "      <td>1357661</td>\n",
       "    </tr>\n",
       "  </tbody>\n",
       "</table>\n",
       "</div>"
      ],
      "text/plain": [
       "     문제            인구수             남자             여자\n",
       "0    총합       26030340       12880779       13150052\n",
       "1   최대값        9741381        4757642        4984229\n",
       "2   최소값        1061440         523803         534617\n",
       "3   평균값        2603034        1288077        1315005\n",
       "4   중앙값        2603034        1288077        1315005\n",
       "5    분산  6996348492729  1658060465632  1843243791648\n",
       "6  표준편차        2645061        1287656        1357661"
      ]
     },
     "execution_count": 56,
     "metadata": {},
     "output_type": "execute_result"
    }
   ],
   "source": [
    "problem = ['총합', '최대값', '최소값' ,'평균값','중앙값','분산','표준편차']\n",
    "\n",
    "for i in ['인구수','남자','여자']:\n",
    "    df_sum = df[i].sum() \n",
    "    df_max = df[i].max()\n",
    "    df_min= df[i].min()\n",
    "    df_ave = int(df_sum/len(df))\n",
    "    df_mean_ = df[i].mean()\n",
    "    df_var = df[i].var()\n",
    "    df_std = df[i].std()\n",
    "    if i == '인구수': \n",
    "            population = [df_sum, df_max, df_min, df_ave,df_mean_, df_var, df_std]\n",
    "            \n",
    "    elif i == '남자': \n",
    "            man = [df_sum, df_max, df_min, df_ave,df_mean_, df_var, df_std]\n",
    "            \n",
    "            \n",
    "    elif i == '여자': \n",
    "            woman = [df_sum, df_max, df_min, df_ave,df_mean_, df_var, df_std]\n",
    "    \n",
    "# print(population, man, woman)\n",
    "# list(map(int, list_a))\n",
    "\n",
    "population = list(map(int,population))\n",
    "\n",
    "man = list(map(int,man))\n",
    "\n",
    "woman = list(map(int,woman))\n",
    "\n",
    "\n",
    "submission = {'문제':problem,\n",
    "            '인구수':population,\n",
    "             '남자': man,\n",
    "              '여자': woman} \n",
    "\n",
    "submission = pd.DataFrame(submission)\n",
    "submission"
   ]
  },
  {
   "cell_type": "code",
   "execution_count": 57,
   "metadata": {
    "scrolled": true
   },
   "outputs": [
    {
     "data": {
      "text/html": [
       "<div>\n",
       "<style scoped>\n",
       "    .dataframe tbody tr th:only-of-type {\n",
       "        vertical-align: middle;\n",
       "    }\n",
       "\n",
       "    .dataframe tbody tr th {\n",
       "        vertical-align: top;\n",
       "    }\n",
       "\n",
       "    .dataframe thead th {\n",
       "        text-align: right;\n",
       "    }\n",
       "</style>\n",
       "<table border=\"1\" class=\"dataframe\">\n",
       "  <thead>\n",
       "    <tr style=\"text-align: right;\">\n",
       "      <th></th>\n",
       "      <th>문제</th>\n",
       "      <th>인구수</th>\n",
       "      <th>남자</th>\n",
       "      <th>여자</th>\n",
       "    </tr>\n",
       "  </thead>\n",
       "  <tbody>\n",
       "    <tr>\n",
       "      <th>0</th>\n",
       "      <td>총합</td>\n",
       "      <td>26030340</td>\n",
       "      <td>12880779</td>\n",
       "      <td>13150052</td>\n",
       "    </tr>\n",
       "    <tr>\n",
       "      <th>1</th>\n",
       "      <td>최대값</td>\n",
       "      <td>9741381</td>\n",
       "      <td>4757642</td>\n",
       "      <td>4984229</td>\n",
       "    </tr>\n",
       "    <tr>\n",
       "      <th>2</th>\n",
       "      <td>최소값</td>\n",
       "      <td>1061440</td>\n",
       "      <td>523803</td>\n",
       "      <td>534617</td>\n",
       "    </tr>\n",
       "    <tr>\n",
       "      <th>3</th>\n",
       "      <td>평균값</td>\n",
       "      <td>2603034</td>\n",
       "      <td>1288077</td>\n",
       "      <td>1315005</td>\n",
       "    </tr>\n",
       "    <tr>\n",
       "      <th>4</th>\n",
       "      <td>중앙값</td>\n",
       "      <td>2603034</td>\n",
       "      <td>1288077</td>\n",
       "      <td>1315005</td>\n",
       "    </tr>\n",
       "    <tr>\n",
       "      <th>5</th>\n",
       "      <td>분산</td>\n",
       "      <td>6996348492729</td>\n",
       "      <td>1658060465632</td>\n",
       "      <td>1843243791648</td>\n",
       "    </tr>\n",
       "    <tr>\n",
       "      <th>6</th>\n",
       "      <td>표준편차</td>\n",
       "      <td>2645061</td>\n",
       "      <td>1287656</td>\n",
       "      <td>1357661</td>\n",
       "    </tr>\n",
       "  </tbody>\n",
       "</table>\n",
       "</div>"
      ],
      "text/plain": [
       "     문제            인구수             남자             여자\n",
       "0    총합       26030340       12880779       13150052\n",
       "1   최대값        9741381        4757642        4984229\n",
       "2   최소값        1061440         523803         534617\n",
       "3   평균값        2603034        1288077        1315005\n",
       "4   중앙값        2603034        1288077        1315005\n",
       "5    분산  6996348492729  1658060465632  1843243791648\n",
       "6  표준편차        2645061        1287656        1357661"
      ]
     },
     "execution_count": 57,
     "metadata": {},
     "output_type": "execute_result"
    }
   ],
   "source": [
    "submission.to_csv('data/data5_pandas.csv', index= False)\n",
    "\n",
    "pd.read_csv('data/data5_pandas.csv')"
   ]
  }
 ],
 "metadata": {
  "kernelspec": {
   "display_name": "Python 3",
   "language": "python",
   "name": "python3"
  },
  "language_info": {
   "codemirror_mode": {
    "name": "ipython",
    "version": 3
   },
   "file_extension": ".py",
   "mimetype": "text/x-python",
   "name": "python",
   "nbconvert_exporter": "python",
   "pygments_lexer": "ipython3",
   "version": "3.7.6"
  }
 },
 "nbformat": 4,
 "nbformat_minor": 4
}
