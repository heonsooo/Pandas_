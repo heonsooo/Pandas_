{
 "cells": [
  {
   "cell_type": "code",
   "execution_count": 1,
   "metadata": {},
   "outputs": [
    {
     "name": "stdout",
     "output_type": "stream",
     "text": [
      "{'Smasung': {'삼성전자': '1', '삼성SDS': '2', '삼성SDI': '3'}, 'LG': {'LG전자': '4', 'LGCNS': '5', 'LG화학': '6'}}\n"
     ]
    }
   ],
   "source": [
    "info= { \n",
    "    'Smasung': {\n",
    "        \"삼성전자\": '1',\n",
    "        '삼성SDS' : '2',\n",
    "        '삼성SDI' : '3'\n",
    "        }\n",
    "    , \"LG\": {\n",
    "        \"LG전자\": '4',\n",
    "        'LGCNS' : '5',\n",
    "        'LG화학': '6'\n",
    "    }\n",
    "}\n",
    "\n",
    "\n",
    "print(info)\n"
   ]
  },
  {
   "cell_type": "code",
   "execution_count": 16,
   "metadata": {},
   "outputs": [
    {
     "name": "stdout",
     "output_type": "stream",
     "text": [
      "{\n",
      "    \"Smasung\": {\n",
      "        \"삼성전자\": \"1\",\n",
      "        \"삼성SDS\": \"2\",\n",
      "        \"삼성SDI\": \"3\"\n",
      "    },\n",
      "    \"LG\": {\n",
      "        \"LG전자\": \"4\",\n",
      "        \"LGCNS\": \"5\",\n",
      "        \"LG화학\": \"6\"\n",
      "    }\n",
      "}\n"
     ]
    }
   ],
   "source": [
    "import json\n",
    "\n",
    "# _data.json 파일에 딕셔너리 형태로 info 저장\n",
    "with open(\"data.json\", 'w') as f:\n",
    "    json.dump(info, f, indent='\\t')\n",
    "\n",
    "# 저장 된 _data.json 파일을 읽어오기. \n",
    "with open('data.json', 'r') as f:\n",
    "    data = json.load(f)\n",
    "    \n",
    "# json.dumps 이용해서 data를 들여쓰기 4칸 , 한글로 표현되도록 출력 \n",
    "print(json.dumps(data, indent=4,ensure_ascii = False))"
   ]
  },
  {
   "cell_type": "code",
   "execution_count": 17,
   "metadata": {},
   "outputs": [
    {
     "name": "stdout",
     "output_type": "stream",
     "text": [
      "{'Smasung': {'삼성전자': '1', '삼성SDS': '2', '삼성SDI': '3'}, 'LG': {'LG전자': '4', 'LGCNS': '5', 'LG화학': '6'}, 'hyundai': {'현대자동차': '11', '현대모비스': '10', '현대위아': '9'}}\n"
     ]
    }
   ],
   "source": [
    "  hyundai = {\n",
    "    'hyundai': {\n",
    "        \"현대자동차\": '11',\n",
    "        '현대모비스': '10',\n",
    "        '현대위아'  : '9'\n",
    "            }\n",
    "        }\n",
    "# 읽어 온 파일에 새로운 딕셔너리 업데이트\n",
    "data.update(hyundai)\n",
    "\n",
    "\n",
    "print(data)"
   ]
  },
  {
   "cell_type": "code",
   "execution_count": 18,
   "metadata": {},
   "outputs": [
    {
     "name": "stdout",
     "output_type": "stream",
     "text": [
      "{\n",
      "    \"Smasung\": {\n",
      "        \"삼성전자\": \"1\",\n",
      "        \"삼성SDS\": \"2\",\n",
      "        \"삼성SDI\": \"3\"\n",
      "    },\n",
      "    \"LG\": {\n",
      "        \"LG전자\": \"4\",\n",
      "        \"LGCNS\": \"5\",\n",
      "        \"LG화학\": \"6\"\n",
      "    },\n",
      "    \"hyundai\": {\n",
      "        \"현대자동차\": \"11\",\n",
      "        \"현대모비스\": \"10\",\n",
      "        \"현대위아\": \"9\"\n",
      "    }\n",
      "}\n"
     ]
    }
   ],
   "source": [
    "\n",
    "# 업데이트 된 json 파일 저장\n",
    "with open(\"data.json\", 'w',encoding='utf-8') as f:\n",
    "    json.dump(data, f, indent='\\t')\n",
    "\n",
    "# 업데이트 된 json 파일 읽기 \n",
    "with open('data.json', 'r', encoding='utf8') as f:\n",
    "    f = f.read()\n",
    "    my_data = json.loads(f)\n",
    "\n",
    "# json.dumps 이용해서 my_data를 들여쓰기 4칸 , 한글로 표현되도록 \n",
    "print(json.dumps(my_data, indent=4,ensure_ascii = False))"
   ]
  }
 ],
 "metadata": {
  "kernelspec": {
   "display_name": "Python 3",
   "language": "python",
   "name": "python3"
  },
  "language_info": {
   "codemirror_mode": {
    "name": "ipython",
    "version": 3
   },
   "file_extension": ".py",
   "mimetype": "text/x-python",
   "name": "python",
   "nbconvert_exporter": "python",
   "pygments_lexer": "ipython3",
   "version": "3.7.6"
  }
 },
 "nbformat": 4,
 "nbformat_minor": 4
}
